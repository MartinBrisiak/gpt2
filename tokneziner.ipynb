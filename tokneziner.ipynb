{
 "cells": [
  {
   "cell_type": "markdown",
   "metadata": {},
   "source": [
    "# import"
   ]
  },
  {
   "cell_type": "code",
   "execution_count": null,
   "metadata": {},
   "outputs": [],
   "source": [
    "import pandas as pd\n",
    "import matplotlib.pyplot as plt\n"
   ]
  },
  {
   "cell_type": "markdown",
   "metadata": {},
   "source": [
    "# load"
   ]
  },
  {
   "cell_type": "code",
   "execution_count": null,
   "metadata": {},
   "outputs": [],
   "source": [
    "df = pd.read_csv(\"./chat.csv\")\n",
    "text = \"\\n\".join(df[\"message\"].to_list())\n",
    "len(text), text[3400:4500]"
   ]
  },
  {
   "cell_type": "markdown",
   "metadata": {},
   "source": [
    "# custom tokenizer"
   ]
  },
  {
   "cell_type": "code",
   "execution_count": null,
   "metadata": {},
   "outputs": [],
   "source": [
    "def find_top_pair(tokens):\n",
    "    token_counts = {}\n",
    "    for i in range(len(tokens)-1):\n",
    "        token_counts[(tokens[i], tokens[i+1])] = token_counts.get((tokens[i], tokens[i+1]), 0) + 1\n",
    "    sorted_tokens = list(sorted(token_counts.items(), key=lambda item: item[1], reverse=True))\n",
    "    if sorted_tokens[0][1] == 1:\n",
    "        return (), 0\n",
    "    return sorted_tokens[0]\n",
    "\n",
    "def merge(tokens_to_merge, pair, new_index):\n",
    "    new_tokens = []\n",
    "    i = 0\n",
    "    while i<len(tokens_to_merge):\n",
    "        if i<len(tokens_to_merge)-1 and tokens_to_merge[i] == pair[0] and tokens_to_merge[i+1] == pair[1]:\n",
    "            new_tokens.append(new_index)\n",
    "            i+=2\n",
    "        else:\n",
    "            new_tokens.append(tokens_to_merge[i])\n",
    "            i+=1\n",
    "    return new_tokens\n",
    "\n",
    "tokens = list(text.encode('utf8'))\n",
    "merges = {}\n",
    "desired_vocab_size = 400\n",
    "paired_tokens = list(tokens)\n",
    "new_tokens_count = desired_vocab_size - 256\n",
    "merge_counts = []\n",
    "for i in range(new_tokens_count):\n",
    "    top_pair, count = find_top_pair(paired_tokens)\n",
    "    new_index = 256 + i\n",
    "    if not bool(top_pair):\n",
    "        print(\"no more top pairs, exiting\")\n",
    "        break\n",
    "    paired_tokens = merge(paired_tokens, top_pair, new_index)\n",
    "    merges[top_pair] = new_index\n",
    "    merge_counts.append(count)\n",
    "print(paired_tokens[:500])"
   ]
  },
  {
   "cell_type": "code",
   "execution_count": null,
   "metadata": {},
   "outputs": [],
   "source": [
    "print(f\"compresion: paired tokens / tokens {len(tokens) / len(paired_tokens):.2f}x\")\n",
    "plt.plot(merge_counts, marker='o')\n",
    "plt.title('Plot of Sorted Numbers')\n",
    "plt.xlabel('Index')\n",
    "plt.ylabel('Value')\n",
    "plt.grid(True)\n",
    "plt.show()"
   ]
  },
  {
   "cell_type": "code",
   "execution_count": null,
   "metadata": {},
   "outputs": [],
   "source": [
    "vocab = {index: bytes([index]) for index in range(256)}\n",
    "for (p0, p1), index in merges.items():\n",
    "    vocab[index] = vocab[p0] + vocab[p1]\n",
    "\n",
    "def decode(indices):\n",
    "    tokens = b\"\".join(vocab[index] for index in indices)\n",
    "    return tokens.decode(\"utf8\", errors=\"replace\")\n",
    "decode(paired_tokens[350:400])\n",
    "\n",
    "\n",
    "def encode(text :str):\n",
    "    tokens = list(text.encode(\"utf8\"))\n",
    "    for (p0, p1), replace_index in merges.items():\n",
    "        i = 0\n",
    "        while i<len(tokens):\n",
    "            if i<len(tokens)-1 and tokens[i] == p0 and tokens[i+1] == p1:\n",
    "                tokens[i] = replace_index\n",
    "                del tokens[i + 1]\n",
    "                i+=2\n",
    "            else:\n",
    "                i+=1\n",
    "    return tokens\n",
    "\n",
    "assert encode(decode(paired_tokens[350:400])) == paired_tokens[350:400]\n",
    "decode(encode(decode(paired_tokens[350:400])))"
   ]
  }
 ],
 "metadata": {
  "kernelspec": {
   "display_name": "Python 3",
   "language": "python",
   "name": "python3"
  },
  "language_info": {
   "codemirror_mode": {
    "name": "ipython",
    "version": 3
   },
   "file_extension": ".py",
   "mimetype": "text/x-python",
   "name": "python",
   "nbconvert_exporter": "python",
   "pygments_lexer": "ipython3",
   "version": "3.10.12"
  }
 },
 "nbformat": 4,
 "nbformat_minor": 2
}
