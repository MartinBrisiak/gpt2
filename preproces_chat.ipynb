{
 "cells": [
  {
   "cell_type": "code",
   "execution_count": null,
   "metadata": {},
   "outputs": [],
   "source": [
    "import re\n",
    "import numpy as np\n",
    "import pandas as pd"
   ]
  },
  {
   "cell_type": "markdown",
   "metadata": {},
   "source": [
    "# chat to csv\n",
    "\n",
    "- removes \"image ommited\" messages\"\n",
    "- removes some weird `\\u200e` characters\n",
    "- removes timestamps\n",
    "- senders removed from message and moved to separated column"
   ]
  },
  {
   "cell_type": "code",
   "execution_count": null,
   "metadata": {},
   "outputs": [],
   "source": [
    "removes = [\"\\u200e\"]\n",
    "preamble = r\"^\\[[0-9]*/[0-9]*/[0-9]*, [0-9]*:[0-9]*:[0-9]*\\] \"\n",
    "negated_preamble = r\"^(?!\\[[0-9]*/[0-9]*/[0-9]*, [0-9]*:[0-9]*:[0-9]*\\]).*\"\n",
    "martin_preamble = r\"^\\[[0-9]*/[0-9]*/[0-9]*, [0-9]*:[0-9]*:[0-9]*\\] martin brisiak: \"\n",
    "patricia_preamble = r\"^\\[[0-9]*/[0-9]*/[0-9]*, [0-9]*:[0-9]*:[0-9]*\\] Patricia Svitková: \"\n",
    "\n",
    "with open(\"../_chat.txt\") as file:\n",
    "    lines = [line.rstrip() for line in file]\n",
    "lines = lines[1:]\n",
    "lines = [line.replace(remove, \"\") for line in lines for remove in removes]\n",
    "lines = [line for line in lines if not line.endswith(\"image omitted\")]\n",
    "concated_lines = []\n",
    "cache = []\n",
    "for line in reversed(lines):\n",
    "    if bool(re.match(preamble, line)) and bool(cache):\n",
    "        concated_lines += [line + \"\\n\" + \"\\n\".join(reversed(cache))]\n",
    "        cache = []\n",
    "    elif bool(re.match(preamble, line)):\n",
    "        concated_lines += [line]\n",
    "    else:\n",
    "        cache += [line]\n",
    "concated_lines += cache\n",
    "concated_lines = list(reversed(concated_lines))\n",
    "\n",
    "df = pd.DataFrame(\n",
    "    data=[\n",
    "        [\n",
    "            \"martin\" if bool(re.match(martin_preamble, line)) else \"patricia\",\n",
    "            re.sub(martin_preamble, \"\", line) if bool(re.match(martin_preamble, line)) else re.sub(patricia_preamble, \"\", line)\n",
    "        ]\n",
    "        for line in concated_lines\n",
    "    ],\n",
    "    columns=[\"from\", \"message\"]\n",
    ")\n",
    "df = df[(df[\"message\"]!=\"This message was deleted.\") & (df[\"message\"]!=\"You deleted this message.\") & (df[\"message\"]!=\"video omitted\")]\n",
    "df.to_csv(\"./chat.csv\")\n",
    "df.head(100)"
   ]
  },
  {
   "cell_type": "code",
   "execution_count": null,
   "metadata": {},
   "outputs": [],
   "source": [
    "df = pd.read_csv(\"./chat.csv\")\n",
    "text = \"\\n\".join(df[\"message\"].to_list())\n",
    "len(text), text[3400:4500]"
   ]
  }
 ],
 "metadata": {
  "kernelspec": {
   "display_name": "Python 3",
   "language": "python",
   "name": "python3"
  },
  "language_info": {
   "codemirror_mode": {
    "name": "ipython",
    "version": 3
   },
   "file_extension": ".py",
   "mimetype": "text/x-python",
   "name": "python",
   "nbconvert_exporter": "python",
   "pygments_lexer": "ipython3",
   "version": "3.10.12"
  }
 },
 "nbformat": 4,
 "nbformat_minor": 2
}
